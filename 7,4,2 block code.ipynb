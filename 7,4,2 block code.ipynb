{
 "cells": [
  {
   "attachments": {},
   "cell_type": "markdown",
   "metadata": {},
   "source": [
    "# Decoding of [7,4,2] linear block code using belief propagation algorithm\n"
   ]
  },
  {
   "attachments": {},
   "cell_type": "markdown",
   "metadata": {},
   "source": [
    "\n",
    "\n",
    "* Generating a [7,4,2] code"
   ]
  },
  {
   "cell_type": "code",
   "execution_count": 81,
   "metadata": {},
   "outputs": [
    {
     "name": "stdout",
     "output_type": "stream",
     "text": [
      "Symbol= [0 0 0 0] \t Code= [0 0 0 0 0 0 0] \n",
      "\n",
      "Symbol= [0 0 0 1] \t Code= [1 0 0 1 0 1 1] \n",
      "\n",
      "Symbol= [0 0 1 0] \t Code= [0 0 1 0 0 1 0] \n",
      "\n",
      "Symbol= [0 0 1 1] \t Code= [1 0 1 1 0 0 1] \n",
      "\n",
      "Symbol= [0 1 0 0] \t Code= [1 1 0 0 0 0 0] \n",
      "\n",
      "Symbol= [0 1 0 1] \t Code= [0 1 0 1 0 1 1] \n",
      "\n",
      "Symbol= [0 1 1 0] \t Code= [1 1 1 0 0 1 0] \n",
      "\n",
      "Symbol= [0 1 1 1] \t Code= [0 1 1 1 0 0 1] \n",
      "\n",
      "Symbol= [1 0 0 0] \t Code= [0 0 0 0 1 0 1] \n",
      "\n",
      "Symbol= [1 0 0 1] \t Code= [1 0 0 1 1 1 0] \n",
      "\n",
      "Symbol= [1 0 1 0] \t Code= [0 0 1 0 1 1 1] \n",
      "\n",
      "Symbol= [1 0 1 1] \t Code= [1 0 1 1 1 0 0] \n",
      "\n",
      "Symbol= [1 1 0 0] \t Code= [1 1 0 0 1 0 1] \n",
      "\n",
      "Symbol= [1 1 0 1] \t Code= [0 1 0 1 1 1 0] \n",
      "\n",
      "Symbol= [1 1 1 0] \t Code= [1 1 1 0 1 1 1] \n",
      "\n",
      "Symbol= [1 1 1 1] \t Code= [0 1 1 1 1 0 0] \n",
      "\n"
     ]
    }
   ],
   "source": [
    "import numpy as np\n",
    "ulist=[]\n",
    "v=[]\n",
    "v_i= 0\n",
    "vlist=[]\n",
    "for u1 in range(2):\n",
    "    for u2 in range(2):\n",
    "        for u3 in range(2):\n",
    "            for u4 in range(2):\n",
    "                u=[u1,u2,u3,u4]\n",
    "                ulist.append(u)\n",
    "                # print(u)\n",
    "ulist = np.array(ulist)                \n",
    "# print(\"U=\",ulist)\n",
    "G=[[0,0,0,0,1,0,1],[1,1,0,0,0,0,0],[0,0,1,0,0,1,0],[1,0,0,1,0,1,1]]\n",
    "G = np.array(G)\n",
    "# print(G)\n",
    "for i in range(16):\n",
    "    for n in range(len(G[0])):\n",
    "        for k in range(len(G)):\n",
    "            v_i = (v_i + ulist[i,k]*G[k,n])%2\n",
    "        v.append(v_i)\n",
    "        v_i=0\n",
    "    vlist.append(v)\n",
    "    v=[]\n",
    "vlist=np.array(vlist)\n",
    "for i in range(16):\n",
    "    print(\"Symbol=\",ulist[i,:],\"\\t Code=\",vlist[i,:],\"\\n\")"
   ]
  },
  {
   "attachments": {},
   "cell_type": "markdown",
   "metadata": {},
   "source": [
    "* Generating messages\n",
    "\n",
    "    A binary symmetric channel with error probability 't' causing at most **one** error in received codeword.\n",
    "    <img src=\"Images/BSC.png\">"
   ]
  },
  {
   "cell_type": "code",
   "execution_count": 82,
   "metadata": {},
   "outputs": [],
   "source": [
    "C = \"0111100\"    #Original codeword\n",
    "R = \"1111100\"    #Received codeword\n",
    "t=theta=0.1      #Error probability\n",
    "\n",
    "# Construct message for each node \n",
    "def log(x):\n",
    "    log= -np.log2(x)\n",
    "    return log\n",
    "\n",
    "x = np.empty([7,2])\n",
    "for i in range(7):\n",
    "    if R[i]==\"0\":\n",
    "        x[i] = np.array([log(1-t),log(t)])\n",
    "    else:\n",
    "        x[i] = np.array([log(t),log(1-t)])\n"
   ]
  },
  {
   "cell_type": "code",
   "execution_count": 83,
   "metadata": {},
   "outputs": [],
   "source": [
    "# ####################### 0,1 -> 013 #################\n",
    "# u0_013 = x[0]; u1_013 = x[1]\n",
    "# ####################### 2,5 -> 235 #################\n",
    "# u5_235 = x[5]; u2_235 = x[2]\n",
    "# ####################### 4,6 -> 346 #################\n",
    "# u6_346 = x[6]; u4_346 = x[4]\n",
    "\n",
    "u013_3 = u235_3 = u346_3 = np.zeros(2)\n",
    "u013_0 = u013_1 = u235_2 = u235_5 = u346_4 = u346_6 = np.zeros(2)\n",
    "x3_final = np.zeros(2)"
   ]
  },
  {
   "attachments": {},
   "cell_type": "markdown",
   "metadata": {},
   "source": [
    "* Pass messages from leaf nodes to root node X3"
   ]
  },
  {
   "cell_type": "code",
   "execution_count": 84,
   "metadata": {},
   "outputs": [],
   "source": [
    "def first_pass(a,b):\n",
    "    tar = np.empty(2)\n",
    "    for i3 in range(2):\n",
    "        store_sum = []\n",
    "        # print(\"for x3=\",i3)\n",
    "        for i0 in range(2):\n",
    "            for i1 in range(2):\n",
    "                if (i0+i1+i3)%2==0:\n",
    "                    sum= x[a][i0]+x[b][i1]\n",
    "                    store_sum.append(sum)\n",
    "        \n",
    "        # print(\"Min\",store_sum,\" = \",min(store_sum))\n",
    "        tar[i3] = min(store_sum)\n",
    "    tar = tar - max(tar)    #Normalization\n",
    "    return tar"
   ]
  },
  {
   "attachments": {},
   "cell_type": "markdown",
   "metadata": {},
   "source": [
    "* Pass messages backwards from root node to leaf nodes"
   ]
  },
  {
   "cell_type": "code",
   "execution_count": 85,
   "metadata": {},
   "outputs": [],
   "source": [
    "def final_pass(n):\n",
    "    tar= np.empty(2)\n",
    "    global x3_final\n",
    "    x3_final = x[3] + u013_3 + u235_3 + u346_3\n",
    "    x3_final = x3_final - max(x3_final)  #Normalization\n",
    "\n",
    "    for i0 in range(2):\n",
    "        store_sum = []\n",
    "        # print(\"for x0=\",i0)\n",
    "        for i3 in range(2):\n",
    "            for i1 in range(2):\n",
    "                if (i0+i1+i3)%2==0:\n",
    "                    if n == 0:\n",
    "                        sum= x[3][i3] + u235_3[i3] + u346_3[i3] +x[1][i1]\n",
    "                    elif n == 1:\n",
    "                        sum= x[3][i3] + u235_3[i3] + u346_3[i3] +x[0][i1]\n",
    "                    elif n == 2:\n",
    "                        sum= x[3][i3] + u013_3[i3] + u346_3[i3] +x[5][i1]\n",
    "                    elif n == 5:\n",
    "                        sum= x[3][i3] + u013_3[i3] + u346_3[i3] +x[2][i1]\n",
    "                    elif n == 4:\n",
    "                        sum= x[3][i3] + u013_3[i3] + u235_3[i3] +x[6][i1]\n",
    "                    elif n == 6:\n",
    "                        sum= x[3][i3] + u013_3[i3] + u235_3[i3] +x[4][i1]\n",
    "                    store_sum.append(sum)\n",
    "        # print(\"Min\",store_sum)\n",
    "        # print(min(store_sum))\n",
    "        tar[i0]=min(store_sum)\n",
    "    tar = tar - max(tar)  #Normalization\n",
    "    return tar"
   ]
  },
  {
   "attachments": {},
   "cell_type": "markdown",
   "metadata": {},
   "source": [
    "* Fianl decoding of local domains:"
   ]
  },
  {
   "cell_type": "code",
   "execution_count": 86,
   "metadata": {},
   "outputs": [],
   "source": [
    "def decoding():\n",
    "    decoded_R = np.empty(7)\n",
    "    x_final = np.empty([7,2])\n",
    "    for i in range(7):\n",
    "        if i==0:\n",
    "            x_final[i] = x[i] + u013_0\n",
    "            decoded_R[i] = np.argmin(x_final[i])\n",
    "        elif i == 1:\n",
    "            x_final[i] = x[i] + u013_1\n",
    "            decoded_R[i] = np.argmin(x_final[i])\n",
    "        elif i == 2:\n",
    "            x_final[i] = x[i] + u235_2\n",
    "            decoded_R[i] = np.argmin(x_final[i])\n",
    "        elif i == 3:\n",
    "            x_final[i] = x3_final\n",
    "            decoded_R[i] = np.argmin(x_final[i])\n",
    "        elif i == 5:\n",
    "            x_final[i] = x[i] + u235_5\n",
    "            decoded_R[i] = np.argmin(x_final[i])\n",
    "        elif i == 4:\n",
    "            x_final[i] = x[i] + u346_4\n",
    "            decoded_R[i] = np.argmin(x_final[i])\n",
    "        elif i == 6:\n",
    "            x_final[i] = x[i] + u346_6\n",
    "            decoded_R[i] = np.argmin(x_final[i])\n",
    "    \n",
    "    return(x_final,decoded_R)"
   ]
  },
  {
   "attachments": {},
   "cell_type": "markdown",
   "metadata": {},
   "source": [
    "Running the algorithm:"
   ]
  },
  {
   "cell_type": "code",
   "execution_count": 87,
   "metadata": {},
   "outputs": [
    {
     "name": "stdout",
     "output_type": "stream",
     "text": [
      "\n",
      " Final Costs =\n",
      "x0 =  [0.15200309 0.15200309]\n",
      "x1 =  [0.15200309 0.15200309]\n",
      "x2 =  [ 3.32192809e+00 -4.01835733e+30]\n",
      "x3 =  [ 0.00000000e+00 -8.03671466e+30]\n",
      "x4 =  [ 3.32192809e+00 -4.01835733e+30]\n",
      "x5 =  [-4.01835733e+30  3.32192809e+00]\n",
      "x6 =  [-4.01835733e+30  3.32192809e+00]\n",
      "\n",
      " Original codeword =  0111100\n",
      " Received codeword =  1111100\n",
      "\n",
      " Decoded codeword: [0. 0. 1. 1. 1. 0. 0.]\n"
     ]
    }
   ],
   "source": [
    "for i in range(100):\n",
    "    # print(\"Iteration {}\".format(i+1))\n",
    "\n",
    "    u013_3 =  first_pass(0,1) \n",
    "    # print(\"013 -> 3 = \",u013_3,\"\\n\")\n",
    "    u235_3 =  first_pass(2,5)\n",
    "    # print(\"235 -> 3 =\",u235_3,\"\\n\")\n",
    "    u346_3 =  first_pass(4,6)\n",
    "    # print(\"346 -> 3 =\",u346_3,\"\\n\")\n",
    "    \n",
    "    \n",
    "    u013_0 =  final_pass(0)\n",
    "    # print(\"013 -> 0 =\",u013_0,\"\\n\")\n",
    "    u013_1 =  final_pass(1)\n",
    "    # print(\"013 -> 1 =\",u013_1,\"\\n\")\n",
    "    # print(\"3 ->013 = \", x3_final - u013_3)\n",
    "    u235_2 =  final_pass(2)\n",
    "    # print(\"235 -> 2 =\",u235_2,\"\\n\")\n",
    "    u235_5 =  final_pass(5)\n",
    "    # print(\"235 -> 5 =\",u235_5,\"\\n\")\n",
    "\n",
    "    u346_4 =  final_pass(4)\n",
    "    # print(\"346 -> 4 =\",u346_4,\"\\n\")\n",
    "    u346_6 =  final_pass(6)\n",
    "    # print(\"346 -> 6 =\",u346_6,\"\\n\")\n",
    "    x_final, decoded_R = decoding()\n",
    "    x = x_final\n",
    "    \n",
    "\n",
    "\n",
    "print(\"\\n Final Costs =\")\n",
    "for i in range(7):\n",
    "    print(\"x{} = \".format(i),x_final[i]) \n",
    "print(\"\\n Original codeword = \",C)\n",
    "print(\" Received codeword = \",R)\n",
    "print(\"\\n Decoded codeword:\", decoded_R)"
   ]
  },
  {
   "cell_type": "markdown",
   "metadata": {},
   "source": []
  }
 ],
 "metadata": {
  "kernelspec": {
   "display_name": "Python 3",
   "language": "python",
   "name": "python3"
  },
  "language_info": {
   "codemirror_mode": {
    "name": "ipython",
    "version": 3
   },
   "file_extension": ".py",
   "mimetype": "text/x-python",
   "name": "python",
   "nbconvert_exporter": "python",
   "pygments_lexer": "ipython3",
   "version": "3.10.4 (tags/v3.10.4:9d38120, Mar 23 2022, 23:13:41) [MSC v.1929 64 bit (AMD64)]"
  },
  "orig_nbformat": 4,
  "vscode": {
   "interpreter": {
    "hash": "60e13cfbc0a8001bb971b293b8bc402aae891ca4f4f0c440b8effdc861e5ea60"
   }
  }
 },
 "nbformat": 4,
 "nbformat_minor": 2
}
